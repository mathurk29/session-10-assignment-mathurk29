{
 "metadata": {
  "language_info": {
   "codemirror_mode": {
    "name": "ipython",
    "version": 3
   },
   "file_extension": ".py",
   "mimetype": "text/x-python",
   "name": "python",
   "nbconvert_exporter": "python",
   "pygments_lexer": "ipython3",
   "version": "3.7.9"
  },
  "orig_nbformat": 4,
  "kernelspec": {
   "name": "python3",
   "display_name": "Python 3.7.9 64-bit"
  },
  "interpreter": {
   "hash": "be04d7a754b710caa2304f8401cfaaef8a6f4cefb6d4b30de52dd57a8a2f8a72"
  }
 },
 "nbformat": 4,
 "nbformat_minor": 2,
 "cells": [
  {
   "source": [
    "# Session 10"
   ],
   "cell_type": "markdown",
   "metadata": {}
  },
  {
   "cell_type": "code",
   "execution_count": 1,
   "metadata": {},
   "outputs": [],
   "source": [
    "from polygons import Polygon\n",
    "from sequences import PolygonSequence"
   ]
  },
  {
   "source": [
    "## Polygon Class"
   ],
   "cell_type": "markdown",
   "metadata": {}
  },
  {
   "cell_type": "code",
   "execution_count": 2,
   "metadata": {},
   "outputs": [
    {
     "output_type": "stream",
     "name": "stdout",
     "text": [
      "Help on class Polygon in module polygons:\n\nclass Polygon(builtins.object)\n |  Polygon(vertices, circumradius)\n |  \n |  A class of regular strictly convex polygon. It calcuates interior angles, edge length, apothem, area and perimeter.\n |         \n |  Properties:\n |             vertices / edges\n |             circumradius\n |             interior_angle\n |             edge_length\n |             apothem\n |             area\n |             perimeter\n |  \n |  Methods defined here:\n |  \n |  __eq__(self, other)\n |      Return self==value.\n |  \n |  __gt__(self, other)\n |      Return self>value.\n |  \n |  __init__(self, vertices, circumradius)\n |      Initialize self.  See help(type(self)) for accurate signature.\n |  \n |  __repr__(self)\n |      Return repr(self).\n |  \n |  ----------------------------------------------------------------------\n |  Data descriptors defined here:\n |  \n |  __dict__\n |      dictionary for instance variables (if defined)\n |  \n |  __weakref__\n |      list of weak references to the object (if defined)\n |  \n |  circumradius\n |  \n |  vertices\n |  \n |  ----------------------------------------------------------------------\n |  Data and other attributes defined here:\n |  \n |  __hash__ = None\n\n"
     ]
    }
   ],
   "source": [
    "help(Polygon)"
   ]
  },
  {
   "cell_type": "code",
   "execution_count": 3,
   "metadata": {},
   "outputs": [
    {
     "output_type": "stream",
     "name": "stdout",
     "text": [
      "A regular strictly convex polygon with 10 vertices and circumradius of 10 units\n\n The apothem of Polygon is: 9.510565162951535\n The area of Polygon is: 293.8926261462365\n The circumradius of Polygon is: 10\n The edge length of Polygon is: 6.180339887498948\n The perimeter of Polygon is: 61.80339887498948\n The no. of vertices of Polygon is: 10\n"
     ]
    }
   ],
   "source": [
    "p = Polygon(10,10)\n",
    "print(p)\n",
    "print()\n",
    "print(f' The apothem of Polygon is: {p.apothem}')\n",
    "print(f' The area of Polygon is: {p.area}')\n",
    "print(f' The circumradius of Polygon is: {p.circumradius}')\n",
    "print(f' The edge length of Polygon is: {p.edge_length}')\n",
    "print(f' The perimeter of Polygon is: {p.perimeter}')\n",
    "print(f' The no. of vertices of Polygon is: {p.vertices}')"
   ]
  },
  {
   "source": [
    "## Equality and comparison operations between two Polygon"
   ],
   "cell_type": "markdown",
   "metadata": {}
  },
  {
   "cell_type": "code",
   "execution_count": 4,
   "metadata": {},
   "outputs": [
    {
     "output_type": "stream",
     "name": "stdout",
     "text": [
      " Polygon p1 and p2 are: equal\n"
     ]
    }
   ],
   "source": [
    "p1 = Polygon(3,4)\n",
    "p2 = Polygon(3,4)\n",
    "\n",
    "print(f\" Polygon p1 and p2 are: {'equal' if p1 == p2 else 'unequal'}\")"
   ]
  },
  {
   "cell_type": "code",
   "execution_count": 5,
   "metadata": {},
   "outputs": [
    {
     "output_type": "stream",
     "name": "stdout",
     "text": [
      "True\n"
     ]
    }
   ],
   "source": [
    "p3 = Polygon(4,5)\n",
    "p4 = Polygon(5,6)\n",
    "print(p3 < p4)"
   ]
  },
  {
   "source": [
    "# Sequencing"
   ],
   "cell_type": "markdown",
   "metadata": {}
  },
  {
   "cell_type": "code",
   "execution_count": 6,
   "metadata": {},
   "outputs": [
    {
     "output_type": "stream",
     "name": "stdout",
     "text": [
      "Help on class PolygonSequence in module sequences:\n\nclass PolygonSequence(builtins.object)\n |  PolygonSequence(maxnumber_of_edges: int, circumradius: int) -> None\n |  \n |  A class to create a sequence of type of Polygon.\n |  It implements lru_cache for faster processing.\n |  Properties:\n |      number_of_edges: No. of edges of largest Polygon in the sequence.\n |      circumradius: Length of common circumradius of all Polygons in the sequence\n |  \n |  Methods defined here:\n |  \n |  __getitem__(self, n: int)\n |      Returns the nth Polygon in the sequence, starting from 0\n |  \n |  __init__(self, maxnumber_of_edges: int, circumradius: int) -> None\n |      Initializes PolygonSequence with number_of_edges of largest Polygon and common circumradius for all Polygon\n |  \n |  __len__(self)\n |  \n |  __repr__(self) -> str\n |      Return repr(self).\n |  \n |  initialise_sequence(self)\n |  \n |  max_efficient(self)\n |  \n |  set_number_of_edges(self, number_of_edges)\n |  \n |  ----------------------------------------------------------------------\n |  Data descriptors defined here:\n |  \n |  __dict__\n |      dictionary for instance variables (if defined)\n |  \n |  __weakref__\n |      list of weak references to the object (if defined)\n\n"
     ]
    }
   ],
   "source": [
    "help(PolygonSequence)"
   ]
  },
  {
   "cell_type": "code",
   "execution_count": 7,
   "metadata": {},
   "outputs": [
    {
     "output_type": "execute_result",
     "data": {
      "text/plain": [
       "A sequence of Polygons from edges 3 till 10 and all having circumradius = 100"
      ]
     },
     "metadata": {},
     "execution_count": 7
    }
   ],
   "source": [
    "poly_seq = PolygonSequence(maxnumber_of_edges=10,circumradius=100)\n",
    "poly_seq"
   ]
  },
  {
   "cell_type": "code",
   "execution_count": 8,
   "metadata": {},
   "outputs": [
    {
     "output_type": "execute_result",
     "data": {
      "text/plain": [
       "10"
      ]
     },
     "metadata": {},
     "execution_count": 8
    }
   ],
   "source": [
    "len(poly_seq)"
   ]
  },
  {
   "cell_type": "code",
   "execution_count": 9,
   "metadata": {},
   "outputs": [
    {
     "output_type": "execute_result",
     "data": {
      "text/plain": [
       "A regular strictly convex polygon with 3 vertices and circumradius of 100 units"
      ]
     },
     "metadata": {},
     "execution_count": 9
    }
   ],
   "source": [
    "poly_seq.__getitem__(0) # Zeroth element would start from Polygon-3\n",
    "poly_seq.__getitem__(0) # Zeroth element would start from Polygon-3"
   ]
  },
  {
   "cell_type": "code",
   "execution_count": 10,
   "metadata": {},
   "outputs": [
    {
     "output_type": "execute_result",
     "data": {
      "text/plain": [
       "A regular strictly convex polygon with 13 vertices and circumradius of 100 units"
      ]
     },
     "metadata": {},
     "execution_count": 10
    }
   ],
   "source": [
    "poly_seq.__getitem__(10) # Last element would give from Polygon-10\n"
   ]
  },
  {
   "cell_type": "code",
   "execution_count": 11,
   "metadata": {},
   "outputs": [
    {
     "output_type": "execute_result",
     "data": {
      "text/plain": [
       "A regular strictly convex polygon with 10 vertices and circumradius of 100 units"
      ]
     },
     "metadata": {},
     "execution_count": 11
    }
   ],
   "source": [
    "poly_seq.__getitem__(-1) # Last element would start from Polygon-10\n"
   ]
  },
  {
   "cell_type": "code",
   "execution_count": null,
   "metadata": {},
   "outputs": [],
   "source": []
  }
 ]
}